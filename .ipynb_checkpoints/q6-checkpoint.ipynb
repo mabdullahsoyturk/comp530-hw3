{
 "cells": [
  {
   "cell_type": "code",
   "execution_count": 1,
   "metadata": {},
   "outputs": [],
   "source": [
    "import math\n",
    "import random\n",
    "from collections import Counter\n",
    "import matplotlib.pyplot as plt\n",
    "%matplotlib inline"
   ]
  },
  {
   "cell_type": "code",
   "execution_count": 16,
   "metadata": {},
   "outputs": [],
   "source": [
    "class User:\n",
    "    def __init__(self, age, p, q):\n",
    "        self.v = age\n",
    "        self.D = [i for i in range(1,101)]\n",
    "        self.d = 100\n",
    "        self.p = p\n",
    "        self.q = q\n",
    "        \n",
    "    def toss_a_coin(self): # to your witcher, oh valley of plenty\n",
    "        probabilities = [self.p, 1 - self.p]\n",
    "        \n",
    "        # 0 heads, 1 tails\n",
    "        return random.choices([0,1], weights = probabilities, k = 1)[0]\n",
    "    \n",
    "    def report(self):\n",
    "        result = self.toss_a_coin()\n",
    "        \n",
    "        if result == 0:\n",
    "            return self.v\n",
    "        else:\n",
    "            d_minus = list(filter(lambda x: x != self.v, self.D))\n",
    "            return random.choice(d_minus)"
   ]
  },
  {
   "cell_type": "code",
   "execution_count": 25,
   "metadata": {},
   "outputs": [],
   "source": [
    "class GDR:\n",
    "    def __init__(self, epsilon=8):\n",
    "        self.d = 100\n",
    "        self.epsilon = epsilon\n",
    "        self.p = math.exp(epsilon) / (math.exp(epsilon) + self.d - 1)\n",
    "        self.q = (1 - self.p) / (self.d - 1)\n",
    "        self.users = self.get_users()\n",
    "        self.aggregation = self.aggregate() # keys are ages, values are ivs\n",
    "        \n",
    "    def get_users(self):\n",
    "        users = []\n",
    "\n",
    "        with open(\"ages.txt\") as age_file:\n",
    "            for age in age_file:\n",
    "                users.append(User(int(age.replace('\\n','')), self.p, self.q))\n",
    "                \n",
    "        return users\n",
    "        \n",
    "    def get_reported_values(self):\n",
    "        ages = [user.report() for user in self.users]\n",
    "        return ages\n",
    "    \n",
    "    def aggregate(self):\n",
    "        counter = Counter(self.get_reported_values())\n",
    "        return counter\n",
    "        \n",
    "    def estimate(self, age):\n",
    "        I_v = self.aggregation[age]\n",
    "        estimation = (I_v - len(self.users) * self.q) / (self.p - self.q)\n",
    "        # print(f'Age: {age}, IV: {I_v}, n: {len(self.users)}, p: {self.p}, q: {self.q}, Estimation: {estimation}')\n",
    "        #print((I_v - len(self.users) * self.q))\n",
    "        \n",
    "        return estimation\n",
    "    \n",
    "    def get_estimates(self):\n",
    "        estimates = []\n",
    "        \n",
    "        for age in self.aggregation.keys():\n",
    "            estimates.append(self.estimate(age))\n",
    "            \n",
    "        return estimates\n",
    "    \n",
    "    def plot_hist(self):\n",
    "        estimates = self.get_estimates()\n",
    "        plt.figure(figsize=(20, 3))\n",
    "        plt.xlabel(\"Ages\", labelpad=16, fontsize=16)\n",
    "        plt.ylabel(\"Number of people\", labelpad=16, fontsize=16)\n",
    "        #print(recovered_aggregation.keys())\n",
    "        #print(recovered_aggregation.values())\n",
    "        plt.bar(self.aggregation.keys(), estimates)\n",
    "        plt.show()"
   ]
  },
  {
   "cell_type": "code",
   "execution_count": 26,
   "metadata": {},
   "outputs": [
    {
     "data": {
      "image/png": "[encoded data removed]",
      "text/plain": [
       "<Figure size 1440x216 with 1 Axes>"
      ]
     },
     "metadata": {
      "needs_background": "light"
     },
     "output_type": "display_data"
    }
   ],
   "source": [
    "gdr = GDR()\n",
    "gdr.plot_hist()"
   ]
  },
  {
   "cell_type": "code",
   "execution_count": null,
   "metadata": {},
   "outputs": [],
   "source": []
  }
 ],
 "metadata": {
  "kernelspec": {
   "display_name": "Python 3",
   "language": "python",
   "name": "python3"
  },
  "language_info": {
   "codemirror_mode": {
    "name": "ipython",
    "version": 3
   },
   "file_extension": ".py",
   "mimetype": "text/x-python",
   "name": "python",
   "nbconvert_exporter": "python",
   "pygments_lexer": "ipython3",
   "version": "3.8.5"
  }
 },
 "nbformat": 4,
 "nbformat_minor": 4
}
