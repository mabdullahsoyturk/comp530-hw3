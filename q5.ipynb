{
 "cells": [
  {
   "cell_type": "code",
   "execution_count": 26,
   "metadata": {},
   "outputs": [],
   "source": [
    "import random\n",
    "import math\n",
    "import statistics\n",
    "import pandas as pd\n",
    "import numpy as np\n",
    "import matplotlib.pyplot as plt\n",
    "%matplotlib inline"
   ]
  },
  {
   "cell_type": "code",
   "execution_count": 27,
   "metadata": {},
   "outputs": [
    {
     "name": "stdout",
     "output_type": "stream",
     "text": [
      "Number of rows in the original dataset: 48842\n",
      "Number of rows deleted: 3620\n",
      "Number of rows in the clean dataset: 45222\n"
     ]
    }
   ],
   "source": [
    "dataset = pd.read_csv(\"adult.csv\")\n",
    "initial_no_rows = dataset.shape[0]\n",
    "dataset = dataset.replace({'?':np.nan}).dropna()\n",
    "clean_no_rows = dataset.shape[0]\n",
    "print(\"Number of rows in the original dataset: {}\".format(initial_no_rows))\n",
    "print(\"Number of rows deleted: {}\".format(initial_no_rows - clean_no_rows))\n",
    "print(\"Number of rows in the clean dataset: {}\".format(clean_no_rows))"
   ]
  },
  {
   "cell_type": "code",
   "execution_count": 28,
   "metadata": {},
   "outputs": [
    {
     "data": {
      "text/plain": [
       "Bachelors       3178\n",
       "HS-grad         2416\n",
       "Some-college    1990\n",
       "Masters         1393\n",
       "Prof-school      592\n",
       "Assoc-voc        504\n",
       "Doctorate        399\n",
       "Assoc-acdm       398\n",
       "11th              89\n",
       "10th              82\n",
       "7th-8th           55\n",
       "12th              43\n",
       "9th               38\n",
       "5th-6th           22\n",
       "1st-4th            8\n",
       "Preschool          1\n",
       "Name: education, dtype: int64"
      ]
     },
     "execution_count": 28,
     "metadata": {},
     "output_type": "execute_result"
    }
   ],
   "source": [
    "dataset = dataset[dataset['income'].str.contains(\">50K\")]\n",
    "dataset['education'].value_counts()"
   ]
  },
  {
   "cell_type": "code",
   "execution_count": 29,
   "metadata": {},
   "outputs": [],
   "source": [
    "class ExponentialMechanism:\n",
    "    def __init__(self, dataset, epsilon=1):\n",
    "        self.dataset = dataset\n",
    "        self.sensitivity = 1 # Step 2\n",
    "        self.epsilon = epsilon\n",
    "        self.distribution = dict(zip(dataset['education'].value_counts().index.tolist(),list(dataset['education'].value_counts())))\n",
    "        \n",
    "    # Step 1\n",
    "    def query(self, education_level):\n",
    "        return self.distribution[education_level] / 20\n",
    "    \n",
    "    # Step 3\n",
    "    def compute_all(self):\n",
    "        query_results = []\n",
    "        for education_level in self.distribution.keys():\n",
    "            query_results.append(self.query(education_level))\n",
    "            \n",
    "        return query_results\n",
    "    \n",
    "    def get_denominator(self):\n",
    "        denominator = 0\n",
    "        \n",
    "        for education_level in self.distribution.keys():\n",
    "            denominator += math.exp((self.epsilon * self.query(education_level)) / (2 * self.sensitivity))\n",
    "            \n",
    "        return denominator\n",
    "    \n",
    "    def get_probabilities(self):\n",
    "        probabilities = []\n",
    "        \n",
    "        for education_level in self.distribution.keys():\n",
    "            probability = 0.0\n",
    "            probability = math.exp((self.epsilon * self.query(education_level)) / (2 * self.sensitivity)) / self.get_denominator()\n",
    "            probabilities.append(probability)\n",
    "         \n",
    "        return probabilities\n",
    "        \n",
    "    # Step 4\n",
    "    def pick_r(self):\n",
    "        probabilities = self.get_probabilities()\n",
    "        \n",
    "        return random.choices(list(self.distribution.values()), weights=probabilities)[0]\n",
    "    \n",
    "class LaplaceMechanism:\n",
    "    def __init__(self, dataset, mu=0.0, epsilon=1):\n",
    "        self.dataset = dataset\n",
    "        self.sensitivity = 1 # step 2\n",
    "        self.mu = mu\n",
    "        self.scale = self.sensitivity / epsilon\n",
    "        self.distribution = dict(zip(dataset['education'].value_counts().index.tolist(),list(dataset['education'].value_counts())))\n",
    "        \n",
    "    def query(self):\n",
    "        return self.distribution['Bachelors']\n",
    "    \n",
    "    def draw_samples(self):\n",
    "        return np.random.laplace(self.mu, self.scale)\n",
    "    \n",
    "    def get_noisy_data(self):\n",
    "        return self.query() + self.draw_samples()"
   ]
  },
  {
   "cell_type": "code",
   "execution_count": 30,
   "metadata": {},
   "outputs": [
    {
     "name": "stdout",
     "output_type": "stream",
     "text": [
      "3178\n"
     ]
    }
   ],
   "source": [
    "exponential_mechanism = ExponentialMechanism(dataset, epsilon=1)\n",
    "print(exponential_mechanism.pick_r())"
   ]
  },
  {
   "cell_type": "code",
   "execution_count": 34,
   "metadata": {},
   "outputs": [
    {
     "name": "stdout",
     "output_type": "stream",
     "text": [
      "Epsilon: 0.0001, Accuracy: 0.02\n",
      "Epsilon: 0.001, Accuracy: 0.07\n",
      "Epsilon: 0.01, Accuracy: 0.15\n",
      "Epsilon: 0.1, Accuracy: 0.84\n"
     ]
    }
   ],
   "source": [
    "epsilon_values = [0.0001, 0.001, 0.01, 0.1]\n",
    "\n",
    "for epsilon in epsilon_values:\n",
    "    returned_values = []\n",
    "    for i in range(100):\n",
    "        exponential_mechanism = ExponentialMechanism(dataset, epsilon=epsilon)\n",
    "        returned = exponential_mechanism.pick_r()\n",
    "        returned_values.append(returned)\n",
    "    \n",
    "    print(f'Epsilon: {epsilon}, Accuracy: {returned_values.count(3178) / len(returned_values)}')\n"
   ]
  },
  {
   "cell_type": "code",
   "execution_count": 33,
   "metadata": {},
   "outputs": [
    {
     "name": "stdout",
     "output_type": "stream",
     "text": [
      "Epsilon: 0.0001, Outcome: 2846.7295687090455\n",
      "Epsilon: 0.001, Outcome: 2951.067144789\n",
      "Epsilon: 0.01, Outcome: 3162.6499558074925\n",
      "Epsilon: 0.1, Outcome: 3179.91315869006\n"
     ]
    }
   ],
   "source": [
    "epsilon_values = [0.0001, 0.001, 0.01, 0.1]\n",
    "\n",
    "for epsilon in epsilon_values:\n",
    "    returned_values = []\n",
    "    for i in range(100):\n",
    "        exponential_mechanism = LaplaceMechanism(dataset, epsilon=epsilon)\n",
    "        returned = exponential_mechanism.get_noisy_data()\n",
    "        returned_values.append(returned)\n",
    "        \n",
    "    print(f'Epsilon: {epsilon}, Outcome: {sum(returned_values) / len(returned_values)}')"
   ]
  }
 ],
 "metadata": {
  "kernelspec": {
   "display_name": "Python 3",
   "language": "python",
   "name": "python3"
  },
  "language_info": {
   "codemirror_mode": {
    "name": "ipython",
    "version": 3
   },
   "file_extension": ".py",
   "mimetype": "text/x-python",
   "name": "python",
   "nbconvert_exporter": "python",
   "pygments_lexer": "ipython3",
   "version": "3.8.5"
  }
 },
 "nbformat": 4,
 "nbformat_minor": 4
}
